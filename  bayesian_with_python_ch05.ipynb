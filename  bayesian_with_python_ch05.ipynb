{
 "cells": [
  {
   "cell_type": "markdown",
   "metadata": {},
   "source": [
    "# Chapter 05. Odds and Addends"
   ]
  },
  {
   "cell_type": "markdown",
   "metadata": {
    "collapsed": true
   },
   "source": [
    "## 5.1 공산(Odds)"
   ]
  },
  {
   "cell_type": "code",
   "execution_count": 19,
   "metadata": {},
   "outputs": [
    {
     "name": "stdout",
     "output_type": "stream",
     "text": [
      "The autoreload extension is already loaded. To reload it, use:\n",
      "  %reload_ext autoreload\n"
     ]
    }
   ],
   "source": [
    "%load_ext autoreload\n",
    "%autoreload 2\n",
    "\n",
    "import sys\n",
    "sys.path.append(\"./code\")\n",
    "import thinkbayes\n",
    "\n",
    "# 확률값이 주어졌을 때 공산\n",
    "def Odds(p):\n",
    "    return p / (1-p)"
   ]
  },
  {
   "cell_type": "code",
   "execution_count": 20,
   "metadata": {
    "collapsed": true
   },
   "outputs": [],
   "source": [
    "# 정수로 나타낸 공산\n",
    "def Probability(o):\n",
    "    return o / (o+1)"
   ]
  },
  {
   "cell_type": "code",
   "execution_count": 21,
   "metadata": {
    "collapsed": true
   },
   "outputs": [],
   "source": [
    "# 분자와 분모 형태로...\n",
    "def Probability(yes, no):\n",
    "    return yes / (yes + no)"
   ]
  },
  {
   "cell_type": "markdown",
   "metadata": {},
   "source": [
    "- 확률을 나타내는데 0과 1 사이의 숫자를 사용하는 것만 있는 것은 아니다.\n",
    "- 공산(odds)이라고 부르는 방법이 있다. 혹은 승산이라고도 한다.\n",
    "- 우리 팀의 승률이 75%라면 이길 가능성이 질 가능성의 3배이므로, 3:1로 표시할 수 있다."
   ]
  },
  {
   "cell_type": "markdown",
   "metadata": {},
   "source": [
    "## 5.2 베이즈 이론의 공산 형태"
   ]
  },
  {
   "cell_type": "markdown",
   "metadata": {},
   "source": [
    "베이즈 이론을 다시 살펴보면 다음과 같다.\n",
    "- p(H|D) = p(H)p(D|H) / p(D)\n",
    "\n",
    "A와 B라는 가설이 있을 때, 그 둘의 비율을 다음과 같이 나타낼 수 있다.\n",
    "- p(A|D) / p(B|D) = p(A)p(D|A) / p(B)p(D|B)\n",
    "- 정규화 상수 p(D)가 사라졌다!\n",
    "\n",
    "만약 A가 상호 배제적이고, 전체 포괄적이라면 (MECE), p(B) = 1 - p(A)라고 할 수 있다.\n",
    "- 이 때, 사전 확률비, 사후 확률비를 공산을 이용해 나타낼 수 있다.\n",
    "- o(A|D) = o(A)* p(D|A) / p(D|B) 이다.\n",
    "- __즉, 사후 공산은 사전 공산과 우도비의 곱이다.__\n",
    "\n",
    "어라, 그런데 상호 배제적인 속성만 뺀다면.. p(B) = 1 - p(A) - p(AB교집합) 이렇게 할 수 있겠네.\n"
   ]
  },
  {
   "cell_type": "markdown",
   "metadata": {},
   "source": [
    "## 5.3 올리버의 혈액형\n",
    "\n",
    "__베이즈 요인: o(A|D) / o(A)__ = p(D|A) / p(D|B)\n",
    "- 베이즈 요인(Bayes Factor)이 1보다 크면 데이터 B의 가정에 비해 A의 가정에 더 가깝다는 것. 공산이 커졌다는 뜻이다.\n"
   ]
  },
  {
   "cell_type": "markdown",
   "metadata": {},
   "source": [
    "## 5.4 가산\n",
    "\n",
    "__베이지안 통계에서 기본연산은 Update에서 사전 분포와 데이터를 통해서 사후 분포를 구하는 것이다.__\n",
    "\n",
    "하지만 실제 문제는 보통 __정규화, 덧셈과 최대값, 최소값,__ 이런 연산을 조합한 기타 수치 연산 등을 포함한다.\n",
    "\n",
    "- 이 장에서는 덧셈과 최대값을 설명할 것이다.\n",
    "    - 세 주사위 합의 분포를 구해보자!"
   ]
  },
  {
   "cell_type": "code",
   "execution_count": 22,
   "metadata": {},
   "outputs": [],
   "source": [
    "class Die(thinkbayes.Pmf):\n",
    "    def __init__(self, sides):\n",
    "        super().__init__(self)\n",
    "        for x in range(1, sides+1):\n",
    "            self.Set(x, 1)\n",
    "            \n",
    "        self.Normalize()"
   ]
  },
  {
   "cell_type": "code",
   "execution_count": 23,
   "metadata": {},
   "outputs": [
    {
     "name": "stdout",
     "output_type": "stream",
     "text": [
      "<__main__.Die object at 0x000002832DE037B8>\n"
     ]
    }
   ],
   "source": [
    "# 6면체 주사위를 생성한다.\n",
    "d6 = Die(6)"
   ]
  },
  {
   "cell_type": "code",
   "execution_count": 24,
   "metadata": {},
   "outputs": [
    {
     "name": "stdout",
     "output_type": "stream",
     "text": [
      "<thinkbayes.Hist object at 0x000002832DF62E80>\n",
      "<thinkbayes.Pmf object at 0x000002832DF62E48>\n"
     ]
    }
   ],
   "source": [
    "# 3개의 6면체 주사위를 1000번 굴린 샘플값을 생성한다.\n",
    "dice = [d6] * 3\n",
    "three = thinkbayes.SampleSum(dice, 1000)"
   ]
  },
  {
   "cell_type": "code",
   "execution_count": 25,
   "metadata": {
    "collapsed": true
   },
   "outputs": [],
   "source": [
    "# n개의 임의의 합을 생성한 후, 이 분포를 pmf 형태로 반환한다.\n",
    "def SampleSum(dists, n):\n",
    "    pmf = MakePmfFromList(RandomSum(dists) for i in range(n))\n",
    "    return pmf"
   ]
  },
  {
   "cell_type": "markdown",
   "metadata": {},
   "source": [
    "## 5.5 최대값 "
   ]
  },
  {
   "cell_type": "markdown",
   "metadata": {},
   "source": [
    "전체 분포 내에서 최대값이 갖는 분포를 구하는 것.\n",
    "- CDF를 사용하는 방법이 있다는데..."
   ]
  },
  {
   "cell_type": "code",
   "execution_count": null,
   "metadata": {
    "collapsed": true
   },
   "outputs": [],
   "source": []
  },
  {
   "cell_type": "markdown",
   "metadata": {},
   "source": [
    "## 5.6 혼합"
   ]
  },
  {
   "cell_type": "markdown",
   "metadata": {},
   "source": [
    "여러 면체의 주사위 세트가 있다. \n",
    "- 임의의 N면체 주사위를 집어서 굴렸다고 하자. \n",
    "- 숫자는 1~N 사이에서 균등분포하겠지만,\n",
    "    - 어떤 주사위를 집었는지 모르기 때문에 결과 분포는 균등 분포의 혼합 형태가 된다."
   ]
  },
  {
   "cell_type": "code",
   "execution_count": null,
   "metadata": {
    "collapsed": true
   },
   "outputs": [],
   "source": []
  },
  {
   "cell_type": "code",
   "execution_count": null,
   "metadata": {
    "collapsed": true
   },
   "outputs": [],
   "source": []
  },
  {
   "cell_type": "code",
   "execution_count": null,
   "metadata": {
    "collapsed": true
   },
   "outputs": [],
   "source": []
  }
 ],
 "metadata": {
  "kernelspec": {
   "display_name": "Python 3",
   "language": "python",
   "name": "python3"
  },
  "language_info": {
   "codemirror_mode": {
    "name": "ipython",
    "version": 3
   },
   "file_extension": ".py",
   "mimetype": "text/x-python",
   "name": "python",
   "nbconvert_exporter": "python",
   "pygments_lexer": "ipython3",
   "version": "3.6.1"
  }
 },
 "nbformat": 4,
 "nbformat_minor": 2
}
