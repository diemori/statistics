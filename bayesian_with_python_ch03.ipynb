{
 "cells": [
  {
   "cell_type": "markdown",
   "metadata": {},
   "source": [
    "# Chapter 03 - Assumption1"
   ]
  },
  {
   "cell_type": "code",
   "execution_count": 1,
   "metadata": {
    "collapsed": true
   },
   "outputs": [],
   "source": [
    "import sys\n",
    "sys.path.append(\"./code/\")\n",
    "from thinkbayes import Suite, Pmf"
   ]
  },
  {
   "cell_type": "code",
   "execution_count": 2,
   "metadata": {
    "collapsed": true
   },
   "outputs": [],
   "source": [
    "class Dice(Suite):\n",
    "    def Likelihood(self, data, hypo):\n",
    "        if hypo < data:\n",
    "            return 0\n",
    "        else:\n",
    "            return 1.0 / hypo"
   ]
  },
  {
   "cell_type": "code",
   "execution_count": 3,
   "metadata": {},
   "outputs": [
    {
     "name": "stdout",
     "output_type": "stream",
     "text": [
      "<__main__.Dice object at 0x10be084e0>\n"
     ]
    }
   ],
   "source": [
    "suite = Dice([4, 6])"
   ]
  },
  {
   "cell_type": "code",
   "execution_count": 4,
   "metadata": {},
   "outputs": [
    {
     "data": {
      "text/plain": [
       "0.20833333333333331"
      ]
     },
     "execution_count": 4,
     "metadata": {},
     "output_type": "execute_result"
    }
   ],
   "source": [
    "suite.Update(2)"
   ]
  },
  {
   "cell_type": "code",
   "execution_count": 5,
   "metadata": {},
   "outputs": [
    {
     "name": "stdout",
     "output_type": "stream",
     "text": [
      "4 0.6000000000000001\n",
      "6 0.4\n"
     ]
    }
   ],
   "source": [
    "suite.Print()"
   ]
  },
  {
   "cell_type": "code",
   "execution_count": 6,
   "metadata": {},
   "outputs": [
    {
     "name": "stdout",
     "output_type": "stream",
     "text": [
      "4 0.6923076923076924\n",
      "6 0.30769230769230765\n",
      "------------------------------\n",
      "4 0.7714285714285716\n",
      "6 0.22857142857142854\n",
      "------------------------------\n"
     ]
    }
   ],
   "source": [
    "for roll in [3, 4]:\n",
    "    suite.Update(roll)\n",
    "    suite.Print()\n",
    "    print(\"-\" * 30)"
   ]
  },
  {
   "cell_type": "markdown",
   "metadata": {},
   "source": [
    "# Train Number Example\n",
    "- If you saw a train with number 60 passing by,\n",
    "- how many engines are running on the railway at this time?"
   ]
  },
  {
   "cell_type": "code",
   "execution_count": 7,
   "metadata": {
    "collapsed": true
   },
   "outputs": [],
   "source": [
    "max_limit = 500\n",
    "hypos = range(1, max_limit + 1)"
   ]
  },
  {
   "cell_type": "code",
   "execution_count": 8,
   "metadata": {
    "collapsed": true
   },
   "outputs": [],
   "source": [
    "class Train(Suite):\n",
    "    def Likelihood(self, data, hypo):\n",
    "        if hypo < data:\n",
    "            return 0\n",
    "        else:\n",
    "            return 1.0 / hypo"
   ]
  },
  {
   "cell_type": "code",
   "execution_count": 9,
   "metadata": {},
   "outputs": [
    {
     "name": "stdout",
     "output_type": "stream",
     "text": [
      "<__main__.Train object at 0x10bf3e208>\n"
     ]
    }
   ],
   "source": [
    "s = Train(hypos)"
   ]
  },
  {
   "cell_type": "code",
   "execution_count": 10,
   "metadata": {
    "collapsed": true
   },
   "outputs": [],
   "source": [
    "def Mean(_suite):\n",
    "    total = 0\n",
    "    \n",
    "    for hypo, prob in _suite.Items():\n",
    "        total += hypo * prob\n",
    "\n",
    "    return total"
   ]
  },
  {
   "cell_type": "code",
   "execution_count": 11,
   "metadata": {
    "collapsed": true
   },
   "outputs": [],
   "source": [
    "for data in [60, 30, 90]:\n",
    "    s.Update(data)"
   ]
  },
  {
   "cell_type": "code",
   "execution_count": 12,
   "metadata": {},
   "outputs": [
    {
     "data": {
      "text/plain": [
       "151.84958795903822"
      ]
     },
     "execution_count": 12,
     "metadata": {},
     "output_type": "execute_result"
    }
   ],
   "source": [
    "Mean(s)"
   ]
  },
  {
   "cell_type": "code",
   "execution_count": 17,
   "metadata": {
    "collapsed": true
   },
   "outputs": [],
   "source": [
    "class Train(Dice):\n",
    "#     def __init__(self, hypos, alpha=1.0):\n",
    "# #         Pmf.__init__(self)\n",
    "#         for hypo in hypos:\n",
    "#             self.Set(hypo, hypo**(-alpha))\n",
    "#         self.Normalize()\n",
    "        \n",
    "    def init(self, hypos, alpha=1.0):\n",
    "        for hypo in hypos:\n",
    "            self.Set(hypo, hypo**(-alpha))\n",
    "        self.Normalize()"
   ]
  },
  {
   "cell_type": "code",
   "execution_count": 18,
   "metadata": {},
   "outputs": [
    {
     "name": "stdout",
     "output_type": "stream",
     "text": [
      "<__main__.Train object at 0x10bf4f780>\n"
     ]
    }
   ],
   "source": [
    "hypos = range(1, 1001)\n",
    "train = Train()\n",
    "train.init(hypos)"
   ]
  },
  {
   "cell_type": "markdown",
   "metadata": {
    "collapsed": true
   },
   "source": [
    "## 3.8 토의\n",
    "\n",
    "- 베이지안(Bayesian, 베이즈 주의자)가 선행 분포를 택하는 방법은 두 가지가 있는데, \n",
    "- __하나는 문제의 배경 지식을 가장 잘 표현은 선행 분포를 고르는 방법이다. 이는 선행 분포가 정보적이라고 한다.__ 이 경우에는 사람들이 서로 다른 배경 지식을 사용하거나 해석할 수 있다는 점이 문제로 지적된다. 즉 주관적인 것이다.\n",
    "- 다른 __하나는 비정보적 선행 분포로 관측된 데이터만을 신뢰하도록 다른 제약을 최소한으로 줄이는 것이다.__ 때로는 추정량에 대한 최소한의 선행 정보를 나타내도록 고유한 선행 분포를 정의할 수도 있다.\n",
    "    - 비정보적 선행 분포는 조금 더 객관적이긴 하지만, 저자는 선행 분포를 선호한다. \n",
    "    - 첫번째 이유로, 베이지안 분석은 모델 판단에 기반하여 이루어지느데, 선행 분포를 선택하지 않더라도 전체 분석 자체가 거의 주관적으로 이루어지기 때문이다. \n",
    "    - 또한 데이터가 아주 많거나 아니면 아주 적거나 극단적으로 속하게 되는 경향이 있는데, 데이터가 많은 경우 문제가 되지 않지만 데이터가 적은 경우 배경 지식을 사용하는 것은 매우 큰 차이를 나타낸다. 따라서 객관성을 유지하는 것보다는 알고 있는 모든 지식을 쏟아넣어야 할 것이다."
   ]
  }
 ],
 "metadata": {
  "kernelspec": {
   "display_name": "Python 3",
   "language": "python",
   "name": "python3"
  },
  "language_info": {
   "codemirror_mode": {
    "name": "ipython",
    "version": 3
   },
   "file_extension": ".py",
   "mimetype": "text/x-python",
   "name": "python",
   "nbconvert_exporter": "python",
   "pygments_lexer": "ipython3",
   "version": "3.6.1"
  }
 },
 "nbformat": 4,
 "nbformat_minor": 2
}
