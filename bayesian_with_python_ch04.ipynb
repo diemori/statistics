{
 "cells": [
  {
   "cell_type": "code",
   "execution_count": 41,
   "metadata": {
    "collapsed": true
   },
   "outputs": [],
   "source": [
    "import sys\n",
    "sys.path.append(\"./code/\")\n",
    "from thinkbayes import Suite, Pmf\n",
    "import thinkplot\n",
    "import thinkbayes"
   ]
  },
  {
   "cell_type": "code",
   "execution_count": 42,
   "metadata": {},
   "outputs": [],
   "source": [
    "class Euro(Suite):\n",
    "    def Likelihood(self, data, hypo):\n",
    "        x = hypo / 100\n",
    "        \n",
    "        if data == 'H':\n",
    "            return x\n",
    "        else:\n",
    "            return 1 - x            "
   ]
  },
  {
   "cell_type": "code",
   "execution_count": 56,
   "metadata": {
    "collapsed": true
   },
   "outputs": [],
   "source": [
    "def PlotSuites(suites, root):\n",
    "    \"\"\"Plots two suites.\n",
    "\n",
    "    suite1, suite2: Suite objects\n",
    "    root: string filename to write\n",
    "    \"\"\"\n",
    "    thinkplot.Clf()\n",
    "    thinkplot.PrePlot(len(suites))\n",
    "    \n",
    "    # thinkplot.Cdfs(suites)\n",
    "    thinkplot.Pmfs(suites)\n",
    "\n",
    "    thinkplot.Show(root=root,\n",
    "                   xlabel='x',\n",
    "                   ylabel='Probability',\n",
    "                   formats=['pdf', 'eps'])"
   ]
  },
  {
   "cell_type": "code",
   "execution_count": 57,
   "metadata": {
    "scrolled": false
   },
   "outputs": [
    {
     "name": "stdout",
     "output_type": "stream",
     "text": [
      "<__main__.Euro object at 0x0000018D46B21C88>\n"
     ]
    },
    {
     "name": "stderr",
     "output_type": "stream",
     "text": [
      "C:\\Users\\inwoo\\Anaconda3\\lib\\site-packages\\matplotlib\\axes\\_axes.py:545: UserWarning: No labelled objects found. Use label='...' kwarg on individual plots.\n",
      "  warnings.warn(\"No labelled objects found. \"\n"
     ]
    },
    {
     "data": {
      "image/png": "[encoded data removed]",
      "text/plain": [
       "<matplotlib.figure.Figure at 0x18d46e37b38>"
      ]
     },
     "metadata": {},
     "output_type": "display_data"
    },
    {
     "data": {
      "image/png": "[encoded data removed]",
      "text/plain": [
       "<matplotlib.figure.Figure at 0x18d47f44128>"
      ]
     },
     "metadata": {},
     "output_type": "display_data"
    }
   ],
   "source": [
    "suite = Euro(range(0, 101))\n",
    "dataset = 'H' * 140 + 'T' * 100\n",
    "\n",
    "PlotSuites([suite], 'euro_before')\n",
    "\n",
    "for data in dataset:\n",
    "    suite.Update(data)\n",
    "\n",
    "# save plot to pdf\n",
    "PlotSuites([suite], 'euro_after')"
   ]
  },
  {
   "cell_type": "code",
   "execution_count": 59,
   "metadata": {},
   "outputs": [
    {
     "name": "stdout",
     "output_type": "stream",
     "text": [
      "Mean: 58.264463\n",
      "Median: 58.000000\n",
      "Credible from 53 ~ 63\n"
     ]
    }
   ],
   "source": [
    "print(\"Mean: %f\" % suite.Mean())\n",
    "print(\"Median: %f\" % thinkbayes.Percentile(suite, 50))\n",
    "print(\"Credible from %d ~ %d\" % thinkbayes.CredibleInterval(suite, 90))"
   ]
  },
  {
   "cell_type": "code",
   "execution_count": 64,
   "metadata": {},
   "outputs": [
    {
     "name": "stdout",
     "output_type": "stream",
     "text": [
      "0.5595238095238095\n"
     ]
    }
   ],
   "source": [
    "class Beta(object):\n",
    "    def __init__(self, alpha=1, beta=1):\n",
    "        self.alpha = alpha\n",
    "        self.beta = beta\n",
    "        \n",
    "    def Update(self, data):\n",
    "        heads, tails = data\n",
    "        self.alpha += heads\n",
    "        self.beta += tails\n",
    "        \n",
    "    def Mean(self):\n",
    "        return self.alpha / (self.alpha + self.beta)\n",
    "        \n",
    "# beta = thinkbayes.Beta()\n",
    "beta = Beta()\n",
    "beta.Update((140, 110))\n",
    "print(beta.Mean())"
   ]
  }
 ],
 "metadata": {
  "kernelspec": {
   "display_name": "Python 3",
   "language": "python",
   "name": "python3"
  },
  "language_info": {
   "codemirror_mode": {
    "name": "ipython",
    "version": 3
   },
   "file_extension": ".py",
   "mimetype": "text/x-python",
   "name": "python",
   "nbconvert_exporter": "python",
   "pygments_lexer": "ipython3",
   "version": "3.6.1"
  }
 },
 "nbformat": 4,
 "nbformat_minor": 2
}
